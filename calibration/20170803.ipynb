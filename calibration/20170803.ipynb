{
 "cells": [
  {
   "cell_type": "code",
   "execution_count": 1,
   "metadata": {
    "collapsed": true
   },
   "outputs": [],
   "source": [
    "import pandas as pd\n",
    "import numpy as np\n",
    "import matplotlib.pyplot as plt\n",
    "from scipy.optimize import curve_fit\n",
    "# %matplotlib wx\n",
    "%matplotlib inline"
   ]
  },
  {
   "cell_type": "code",
   "execution_count": 11,
   "metadata": {
    "collapsed": true
   },
   "outputs": [],
   "source": [
    "def linear(x, a, b):\n",
    "    return a * x + b\n",
    "\n",
    "def quadratic(x, a, b, c):\n",
    "    return a * x * x + b * x + c\n",
    "\n",
    "def inverse_quadratic(x, a, b, c):\n",
    "    return (-b + np.sqrt(b**2 - 4*a*(c-x))) / (2*a)\n",
    "\n",
    "def show_fit(actual, predicted):\n",
    "    fig = plt.figure()\n",
    "    ax = fig.add_subplot(111)\n",
    "    ax.plot(actual, predicted, 'b.')\n",
    "    return actual - predicted\n",
    "\n",
    "def fit_and_plot(x, y, fit_fn):\n",
    "    fig = plt.figure()\n",
    "    ax = fig.add_subplot(111)\n",
    "    ax.plot(x, y, 'b.')\n",
    "    popt, pcov = curve_fit(fit_fn, x, y)\n",
    "    xfine = np.linspace(min(x), max(x), 100)\n",
    "    ax.plot(xfine, fit_fn(xfine, *popt), 'r-')\n",
    "    return popt, pcov\n",
    "\n",
    "def fit_and_plot_semilogy(x, y, fit_fn):\n",
    "    fig = plt.figure()\n",
    "    ax = fig.add_subplot(111)\n",
    "    ax.plot(x, y, 'b.')\n",
    "    popt, pcov = curve_fit(fit_fn, x, y)\n",
    "    xfine = np.linspace(min(x), max(x), 100)\n",
    "    ax.semilogy(xfine, fit_fn(xfine, *popt), 'r-')\n",
    "    return popt, pcov"
   ]
  },
  {
   "cell_type": "code",
   "execution_count": 4,
   "metadata": {
    "collapsed": false
   },
   "outputs": [
    {
     "data": {
      "text/html": [
       "<div>\n",
       "<table border=\"1\" class=\"dataframe\">\n",
       "  <thead>\n",
       "    <tr style=\"text-align: right;\">\n",
       "      <th></th>\n",
       "      <th>R</th>\n",
       "      <th>V0</th>\n",
       "      <th>R0</th>\n",
       "      <th>V1</th>\n",
       "      <th>R1</th>\n",
       "      <th>V2</th>\n",
       "      <th>R2</th>\n",
       "      <th>V3</th>\n",
       "      <th>R3</th>\n",
       "    </tr>\n",
       "  </thead>\n",
       "  <tbody>\n",
       "    <tr>\n",
       "      <th>0</th>\n",
       "      <td>0</td>\n",
       "      <td>0.000730</td>\n",
       "      <td>0.15</td>\n",
       "      <td>0.000240</td>\n",
       "      <td>0.270</td>\n",
       "      <td>0.000120</td>\n",
       "      <td>1.230</td>\n",
       "      <td>-0.00024</td>\n",
       "      <td>-24.43</td>\n",
       "    </tr>\n",
       "    <tr>\n",
       "      <th>1</th>\n",
       "      <td>10</td>\n",
       "      <td>0.390750</td>\n",
       "      <td>128.27</td>\n",
       "      <td>0.151730</td>\n",
       "      <td>196.760</td>\n",
       "      <td>0.021730</td>\n",
       "      <td>224.330</td>\n",
       "      <td>0.00208</td>\n",
       "      <td>208.16</td>\n",
       "    </tr>\n",
       "    <tr>\n",
       "      <th>2</th>\n",
       "      <td>100</td>\n",
       "      <td>0.466430</td>\n",
       "      <td>174.83</td>\n",
       "      <td>0.183470</td>\n",
       "      <td>247.170</td>\n",
       "      <td>0.027710</td>\n",
       "      <td>287.850</td>\n",
       "      <td>0.00281</td>\n",
       "      <td>281.83</td>\n",
       "    </tr>\n",
       "    <tr>\n",
       "      <th>3</th>\n",
       "      <td>1000</td>\n",
       "      <td>0.821410</td>\n",
       "      <td>919.89</td>\n",
       "      <td>0.510990</td>\n",
       "      <td>1149.430</td>\n",
       "      <td>0.107540</td>\n",
       "      <td>1217.080</td>\n",
       "      <td>0.01208</td>\n",
       "      <td>1224.50</td>\n",
       "    </tr>\n",
       "    <tr>\n",
       "      <th>4</th>\n",
       "      <td>10000</td>\n",
       "      <td>0.972900</td>\n",
       "      <td>7180.18</td>\n",
       "      <td>0.896000</td>\n",
       "      <td>9476.530</td>\n",
       "      <td>0.499510</td>\n",
       "      <td>10080.290</td>\n",
       "      <td>0.09192</td>\n",
       "      <td>10132.45</td>\n",
       "    </tr>\n",
       "    <tr>\n",
       "      <th>5</th>\n",
       "      <td>100000</td>\n",
       "      <td>0.994750</td>\n",
       "      <td>37902.33</td>\n",
       "      <td>0.986690</td>\n",
       "      <td>81571.560</td>\n",
       "      <td>0.906250</td>\n",
       "      <td>97633.330</td>\n",
       "      <td>0.50024</td>\n",
       "      <td>100197.80</td>\n",
       "    </tr>\n",
       "    <tr>\n",
       "      <th>6</th>\n",
       "      <td>1000000</td>\n",
       "      <td>0.997375</td>\n",
       "      <td>76045.89</td>\n",
       "      <td>0.996765</td>\n",
       "      <td>339066.385</td>\n",
       "      <td>0.987855</td>\n",
       "      <td>821470.745</td>\n",
       "      <td>0.89929</td>\n",
       "      <td>893862.67</td>\n",
       "    </tr>\n",
       "    <tr>\n",
       "      <th>7</th>\n",
       "      <td>10000000</td>\n",
       "      <td>0.997560</td>\n",
       "      <td>81720.00</td>\n",
       "      <td>0.997440</td>\n",
       "      <td>428004.760</td>\n",
       "      <td>0.997440</td>\n",
       "      <td>3929861.900</td>\n",
       "      <td>0.97876</td>\n",
       "      <td>4612654.02</td>\n",
       "    </tr>\n",
       "  </tbody>\n",
       "</table>\n",
       "</div>"
      ],
      "text/plain": [
       "          R        V0        R0        V1          R1        V2           R2  \\\n",
       "0         0  0.000730      0.15  0.000240       0.270  0.000120        1.230   \n",
       "1        10  0.390750    128.27  0.151730     196.760  0.021730      224.330   \n",
       "2       100  0.466430    174.83  0.183470     247.170  0.027710      287.850   \n",
       "3      1000  0.821410    919.89  0.510990    1149.430  0.107540     1217.080   \n",
       "4     10000  0.972900   7180.18  0.896000    9476.530  0.499510    10080.290   \n",
       "5    100000  0.994750  37902.33  0.986690   81571.560  0.906250    97633.330   \n",
       "6   1000000  0.997375  76045.89  0.996765  339066.385  0.987855   821470.745   \n",
       "7  10000000  0.997560  81720.00  0.997440  428004.760  0.997440  3929861.900   \n",
       "\n",
       "        V3          R3  \n",
       "0 -0.00024      -24.43  \n",
       "1  0.00208      208.16  \n",
       "2  0.00281      281.83  \n",
       "3  0.01208     1224.50  \n",
       "4  0.09192    10132.45  \n",
       "5  0.50024   100197.80  \n",
       "6  0.89929   893862.67  \n",
       "7  0.97876  4612654.02  "
      ]
     },
     "execution_count": 4,
     "metadata": {},
     "output_type": "execute_result"
    }
   ],
   "source": [
    "dataset = pd.read_csv(\"/Users/r/Projects/ParticleZen/zzen/calibration/20170803.csv\", skipinitialspace = True)\n",
    "# Vx fields were reported 1000x their actual values.  Fix now...\n",
    "dataset['V0'] = dataset['V0'] / 1000.0\n",
    "dataset['V1'] = dataset['V1'] / 1000.0\n",
    "dataset['V2'] = dataset['V2'] / 1000.0\n",
    "dataset['V3'] = dataset['V3'] / 1000.0\n",
    "dataset.head(10)"
   ]
  },
  {
   "cell_type": "markdown",
   "metadata": {},
   "source": [
    "Define a model that maps Vx to R"
   ]
  },
  {
   "cell_type": "code",
   "execution_count": 5,
   "metadata": {
    "collapsed": true
   },
   "outputs": [],
   "source": [
    "def model_a(X, vdrv, rdrv):\n",
    "    vadc = X[0]\n",
    "    r = rdrv * vadc / (vdrv - vadc)\n",
    "    return r"
   ]
  },
  {
   "cell_type": "code",
   "execution_count": 8,
   "metadata": {
    "collapsed": false
   },
   "outputs": [
    {
     "data": {
      "text/plain": [
       "[array([   0.99758061,  206.60627524]),\n",
       " array([   0.99751526,  754.48968461]),\n",
       " array([  9.98515655e-01,   1.07841621e+04]),\n",
       " array([  9.88463650e-01,   9.91423009e+04])]"
      ]
     },
     "execution_count": 8,
     "metadata": {},
     "output_type": "execute_result"
    }
   ],
   "source": [
    "popt0, _ = curve_fit(model_a, [dataset['V0']], dataset['R'])\n",
    "popt1, _ = curve_fit(model_a, [dataset['V1']], dataset['R'])\n",
    "popt2, _ = curve_fit(model_a, [dataset['V2']], dataset['R'])\n",
    "popt3, _ = curve_fit(model_a, [dataset['V3']], dataset['R'])\n",
    "[popt0, popt1, popt2, popt3]"
   ]
  },
  {
   "cell_type": "code",
   "execution_count": 9,
   "metadata": {
    "collapsed": false
   },
   "outputs": [],
   "source": [
    "def model_b(vadc, vdrv, rdrv):\n",
    "    r = rdrv * vadc / (vdrv - vadc)\n",
    "    return r"
   ]
  },
  {
   "cell_type": "code",
   "execution_count": 12,
   "metadata": {
    "collapsed": false
   },
   "outputs": [
    {
     "data": {
      "text/plain": [
       "(array([   0.99758061,  206.60627524]),\n",
       " array([[  6.64046328e-14,   6.59189002e-07],\n",
       "        [  6.59189002e-07,   6.59711030e+00]]))"
      ]
     },
     "execution_count": 12,
     "metadata": {},
     "output_type": "execute_result"
    },
    {
     "data": {
      "image/png": "[encoded data removed]",
      "text/plain": [
       "<matplotlib.figure.Figure at 0x116a4d1d0>"
      ]
     },
     "metadata": {},
     "output_type": "display_data"
    }
   ],
   "source": [
    "fit_and_plot_semilogy(dataset['V0'], dataset['R'], model_b)"
   ]
  },
  {
   "cell_type": "code",
   "execution_count": 13,
   "metadata": {
    "collapsed": false
   },
   "outputs": [
    {
     "data": {
      "text/plain": [
       "(array([   0.99751526,  754.48968461]),\n",
       " array([[  1.15704743e-12,   1.14934317e-05],\n",
       "        [  1.14934317e-05,   1.15101028e+02]]))"
      ]
     },
     "execution_count": 13,
     "metadata": {},
     "output_type": "execute_result"
    },
    {
     "data": {
      "image/png": "[encoded data removed]",
      "text/plain": [
       "<matplotlib.figure.Figure at 0x116f4edd0>"
      ]
     },
     "metadata": {},
     "output_type": "display_data"
    }
   ],
   "source": [
    "fit_and_plot_semilogy(dataset['V1'], dataset['R'], model_b)"
   ]
  },
  {
   "cell_type": "code",
   "execution_count": 14,
   "metadata": {
    "collapsed": false
   },
   "outputs": [
    {
     "data": {
      "text/plain": [
       "(array([  9.98515655e-01,   1.07841621e+04]),\n",
       " array([[  8.66535771e-12,   8.60930076e-05],\n",
       "        [  8.60930076e-05,   8.62346165e+02]]))"
      ]
     },
     "execution_count": 14,
     "metadata": {},
     "output_type": "execute_result"
    },
    {
     "data": {
      "image/png": "[encoded data removed]",
      "text/plain": [
       "<matplotlib.figure.Figure at 0x116d5bd10>"
      ]
     },
     "metadata": {},
     "output_type": "display_data"
    }
   ],
   "source": [
    "fit_and_plot_semilogy(dataset['V2'], dataset['R'], model_b)"
   ]
  },
  {
   "cell_type": "code",
   "execution_count": 15,
   "metadata": {
    "collapsed": false
   },
   "outputs": [
    {
     "data": {
      "text/plain": [
       "(array([  9.88463650e-01,   9.91423009e+04]),\n",
       " array([[  5.30063641e-11,   5.36734653e-04],\n",
       "        [  5.36734653e-04,   5.47849430e+03]]))"
      ]
     },
     "execution_count": 15,
     "metadata": {},
     "output_type": "execute_result"
    },
    {
     "data": {
      "image/png": "[encoded data removed]",
      "text/plain": [
       "<matplotlib.figure.Figure at 0x117ed2b10>"
      ]
     },
     "metadata": {},
     "output_type": "display_data"
    }
   ],
   "source": [
    "fit_and_plot_semilogy(dataset['V3'], dataset['R'], model_b)"
   ]
  },
  {
   "cell_type": "code",
   "execution_count": 16,
   "metadata": {
    "collapsed": false
   },
   "outputs": [
    {
     "data": {
      "text/plain": [
       "(array([  9.88463650e-01,   9.91423009e+04]),\n",
       " array([[  5.30063641e-11,   5.36734653e-04],\n",
       "        [  5.36734653e-04,   5.47849430e+03]]))"
      ]
     },
     "execution_count": 16,
     "metadata": {},
     "output_type": "execute_result"
    },
    {
     "data": {
      "image/png": "[encoded data removed]",
      "text/plain": [
       "<matplotlib.figure.Figure at 0x116db8b50>"
      ]
     },
     "metadata": {},
     "output_type": "display_data"
    },
    {
     "data": {
      "image/png": "[encoded data removed]",
      "text/plain": [
       "<matplotlib.figure.Figure at 0x117f746d0>"
      ]
     },
     "metadata": {},
     "output_type": "display_data"
    },
    {
     "data": {
      "image/png": "[encoded data removed]",
      "text/plain": [
       "<matplotlib.figure.Figure at 0x117f29ed0>"
      ]
     },
     "metadata": {},
     "output_type": "display_data"
    },
    {
     "data": {
      "image/png": "[encoded data removed]",
      "text/plain": [
       "<matplotlib.figure.Figure at 0x1132dfdd0>"
      ]
     },
     "metadata": {},
     "output_type": "display_data"
    }
   ],
   "source": []
  },
  {
   "cell_type": "code",
   "execution_count": null,
   "metadata": {
    "collapsed": true
   },
   "outputs": [],
   "source": []
  }
 ],
 "metadata": {
  "kernelspec": {
   "display_name": "Python 2",
   "language": "python",
   "name": "python2"
  },
  "language_info": {
   "codemirror_mode": {
    "name": "ipython",
    "version": 2
   },
   "file_extension": ".py",
   "mimetype": "text/x-python",
   "name": "python",
   "nbconvert_exporter": "python",
   "pygments_lexer": "ipython2",
   "version": "2.7.11"
  }
 },
 "nbformat": 4,
 "nbformat_minor": 2
}
