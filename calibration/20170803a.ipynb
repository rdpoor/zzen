{
 "cells": [
  {
   "cell_type": "code",
   "execution_count": 1,
   "metadata": {
    "collapsed": true,
    "deletable": true,
    "editable": true
   },
   "outputs": [],
   "source": [
    "import pandas as pd\n",
    "import numpy as np\n",
    "import matplotlib.pyplot as plt\n",
    "from scipy.optimize import curve_fit\n",
    "# %matplotlib wx\n",
    "%matplotlib inline"
   ]
  },
  {
   "cell_type": "code",
   "execution_count": 81,
   "metadata": {
    "collapsed": true,
    "deletable": true,
    "editable": true
   },
   "outputs": [],
   "source": [
    "def linear(x, a, b):\n",
    "    return a * x + b\n",
    "\n",
    "def quadratic(x, a, b, c):\n",
    "    return a * x * x + b * x + c\n",
    "\n",
    "def inverse_quadratic(x, a, b, c):\n",
    "    return (-b + np.sqrt(b**2 - 4*a*(c-x))) / (2*a)\n",
    "\n",
    "def show_fit(actual, predicted):\n",
    "    fig = plt.figure()\n",
    "    ax = fig.add_subplot(111)\n",
    "    ax.plot(actual, predicted, 'b.')\n",
    "    return actual - predicted\n",
    "\n",
    "def fit_and_plot(x, y, fit_fn):\n",
    "    fig = plt.figure()\n",
    "    ax = fig.add_subplot(111)\n",
    "    ax.plot(x, y, 'b.')\n",
    "    popt, pcov = curve_fit(fit_fn, x, y)\n",
    "    xfine = np.linspace(min(x), max(x), 100)\n",
    "    ax.plot(xfine, fit_fn(xfine, *popt), 'r-')\n",
    "    return popt, pcov\n",
    "\n",
    "def fit_and_plot_semilogy(x, y, fit_fn):\n",
    "    fig = plt.figure()\n",
    "    ax = fig.add_subplot(111)\n",
    "    ax.plot(x, y, 'b.')\n",
    "    popt, pcov = curve_fit(fit_fn, x, y)\n",
    "    xfine = np.linspace(min(x), max(x), 100)\n",
    "    ax.semilogy(xfine, fit_fn(xfine, *popt), 'r-')\n",
    "    return popt, pcov"
   ]
  },
  {
   "cell_type": "code",
   "execution_count": 120,
   "metadata": {
    "collapsed": false,
    "deletable": true,
    "editable": true
   },
   "outputs": [
    {
     "data": {
      "text/html": [
       "<div>\n",
       "<table border=\"1\" class=\"dataframe\">\n",
       "  <thead>\n",
       "    <tr style=\"text-align: right;\">\n",
       "      <th></th>\n",
       "      <th>R</th>\n",
       "      <th>Vadc0</th>\n",
       "      <th>R0</th>\n",
       "      <th>Vadc1</th>\n",
       "      <th>R1</th>\n",
       "      <th>Vadc2</th>\n",
       "      <th>R2</th>\n",
       "      <th>Vadc3</th>\n",
       "      <th>R3</th>\n",
       "      <th>Rlog</th>\n",
       "    </tr>\n",
       "  </thead>\n",
       "  <tbody>\n",
       "    <tr>\n",
       "      <th>0</th>\n",
       "      <td>0.01</td>\n",
       "      <td>0.01160</td>\n",
       "      <td>2.43</td>\n",
       "      <td>0.00220</td>\n",
       "      <td>1.67</td>\n",
       "      <td>0.00012</td>\n",
       "      <td>1.32</td>\n",
       "      <td>0.00000</td>\n",
       "      <td>0.00</td>\n",
       "      <td>-2.0</td>\n",
       "    </tr>\n",
       "    <tr>\n",
       "      <th>1</th>\n",
       "      <td>10.00</td>\n",
       "      <td>0.04993</td>\n",
       "      <td>10.88</td>\n",
       "      <td>0.01074</td>\n",
       "      <td>8.21</td>\n",
       "      <td>0.00098</td>\n",
       "      <td>10.56</td>\n",
       "      <td>0.00000</td>\n",
       "      <td>0.00</td>\n",
       "      <td>1.0</td>\n",
       "    </tr>\n",
       "    <tr>\n",
       "      <th>2</th>\n",
       "      <td>100.00</td>\n",
       "      <td>0.29395</td>\n",
       "      <td>86.31</td>\n",
       "      <td>0.08142</td>\n",
       "      <td>67.06</td>\n",
       "      <td>0.00964</td>\n",
       "      <td>105.17</td>\n",
       "      <td>0.00085</td>\n",
       "      <td>85.78</td>\n",
       "      <td>2.0</td>\n",
       "    </tr>\n",
       "    <tr>\n",
       "      <th>3</th>\n",
       "      <td>1000.00</td>\n",
       "      <td>0.80273</td>\n",
       "      <td>851.18</td>\n",
       "      <td>0.46582</td>\n",
       "      <td>661.01</td>\n",
       "      <td>0.08960</td>\n",
       "      <td>1063.09</td>\n",
       "      <td>0.00989</td>\n",
       "      <td>1001.75</td>\n",
       "      <td>3.0</td>\n",
       "    </tr>\n",
       "    <tr>\n",
       "      <th>4</th>\n",
       "      <td>10000.00</td>\n",
       "      <td>0.97363</td>\n",
       "      <td>8399.88</td>\n",
       "      <td>0.89539</td>\n",
       "      <td>6614.73</td>\n",
       "      <td>0.49451</td>\n",
       "      <td>10580.85</td>\n",
       "      <td>0.09009</td>\n",
       "      <td>9941.85</td>\n",
       "      <td>4.0</td>\n",
       "    </tr>\n",
       "    <tr>\n",
       "      <th>5</th>\n",
       "      <td>100000.00</td>\n",
       "      <td>0.99512</td>\n",
       "      <td>83460.09</td>\n",
       "      <td>0.98633</td>\n",
       "      <td>66520.55</td>\n",
       "      <td>0.90613</td>\n",
       "      <td>105769.79</td>\n",
       "      <td>0.49951</td>\n",
       "      <td>101283.46</td>\n",
       "      <td>5.0</td>\n",
       "    </tr>\n",
       "    <tr>\n",
       "      <th>6</th>\n",
       "      <td>1000000.00</td>\n",
       "      <td>0.99731</td>\n",
       "      <td>403688.01</td>\n",
       "      <td>0.99695</td>\n",
       "      <td>712422.47</td>\n",
       "      <td>0.99268</td>\n",
       "      <td>1833117.80</td>\n",
       "      <td>0.92798</td>\n",
       "      <td>1521066.72</td>\n",
       "      <td>6.0</td>\n",
       "    </tr>\n",
       "  </tbody>\n",
       "</table>\n",
       "</div>"
      ],
      "text/plain": [
       "            R    Vadc0         R0    Vadc1         R1    Vadc2          R2  \\\n",
       "0        0.01  0.01160       2.43  0.00220       1.67  0.00012        1.32   \n",
       "1       10.00  0.04993      10.88  0.01074       8.21  0.00098       10.56   \n",
       "2      100.00  0.29395      86.31  0.08142      67.06  0.00964      105.17   \n",
       "3     1000.00  0.80273     851.18  0.46582     661.01  0.08960     1063.09   \n",
       "4    10000.00  0.97363    8399.88  0.89539    6614.73  0.49451    10580.85   \n",
       "5   100000.00  0.99512   83460.09  0.98633   66520.55  0.90613   105769.79   \n",
       "6  1000000.00  0.99731  403688.01  0.99695  712422.47  0.99268  1833117.80   \n",
       "\n",
       "     Vadc3          R3  Rlog  \n",
       "0  0.00000        0.00  -2.0  \n",
       "1  0.00000        0.00   1.0  \n",
       "2  0.00085       85.78   2.0  \n",
       "3  0.00989     1001.75   3.0  \n",
       "4  0.09009     9941.85   4.0  \n",
       "5  0.49951   101283.46   5.0  \n",
       "6  0.92798  1521066.72   6.0  "
      ]
     },
     "execution_count": 120,
     "metadata": {},
     "output_type": "execute_result"
    }
   ],
   "source": [
    "dataset = pd.read_csv(\"/Users/r/Projects/ParticleZen/zzen/calibration/20170803a.csv\", skipinitialspace = True)\n",
    "# Vx fields were reported 1000x their actual values.  Fix now...\n",
    "dataset['Vadc0'] = dataset['Vadc0'] / 1000.0\n",
    "dataset['Vadc1'] = dataset['Vadc1'] / 1000.0\n",
    "dataset['Vadc2'] = dataset['Vadc2'] / 1000.0\n",
    "dataset['Vadc3'] = dataset['Vadc3'] / 1000.0\n",
    "# fix some negative values\n",
    "dataset.loc[0,'Vadc3'] = 0.0\n",
    "dataset.loc[0,'R3'] = 0.0\n",
    "# While we're at it, let's work using log10(R) rather than R...\n",
    "dataset.loc[0,'R'] = 0.01  # realistically smallest resistance\n",
    "dataset['Rlog'] = np.log10(dataset['R'])\n",
    "dataset"
   ]
  },
  {
   "cell_type": "markdown",
   "metadata": {
    "deletable": true,
    "editable": true
   },
   "source": [
    "Define a model that maps Vx to R"
   ]
  },
  {
   "cell_type": "code",
   "execution_count": 117,
   "metadata": {
    "collapsed": true,
    "deletable": true,
    "editable": true
   },
   "outputs": [],
   "source": [
    "def model_a(vadc, vdrv, rdrv):\n",
    "    r = rdrv * vadc / (vdrv - vadc)\n",
    "    return r\n",
    "def model_b(vadc, vdrv, rdrvlog):\n",
    "    r = np.power(10.0, rdrvlog) * vadc / (vdrv - vadc)\n",
    "    return r\n",
    "def model_c(vadc, rdrvlog):  # fix vdrv at 1.0.  better or worse?\n",
    "    vdrv = 1.0\n",
    "    r = np.power(10.0, rdrvlog) * vadc / (vdrv - vadc)\n",
    "    return r"
   ]
  },
  {
   "cell_type": "code",
   "execution_count": 102,
   "metadata": {
    "collapsed": false,
    "deletable": true,
    "editable": true
   },
   "outputs": [
    {
     "data": {
      "text/plain": [
       "[array([   0.99755394,  244.59974498]),\n",
       " array([  9.98143468e-01,   1.19711963e+03]),\n",
       " array([  1.00332239e+00,   1.07208761e+04]),\n",
       " array([ 0.49951027,  0.05467231])]"
      ]
     },
     "execution_count": 102,
     "metadata": {},
     "output_type": "execute_result"
    }
   ],
   "source": [
    "popt0a, _ = curve_fit(model_a, dataset['Vadc0'], dataset['R'])\n",
    "popt1a, _ = curve_fit(model_a, dataset['Vadc1'], dataset['R'])\n",
    "popt2a, _ = curve_fit(model_a, dataset['Vadc2'], dataset['R'])\n",
    "popt3a, _ = curve_fit(model_a, dataset['Vadc3'], dataset['R'])\n",
    "[popt0a, popt1a, popt2a, popt3a]"
   ]
  },
  {
   "cell_type": "code",
   "execution_count": 114,
   "metadata": {
    "collapsed": false
   },
   "outputs": [
    {
     "name": "stderr",
     "output_type": "stream",
     "text": [
      "/Users/r/Library/Enthought/Canopy_64bit/User/lib/python2.7/site-packages/ipykernel/__main__.py:5: RuntimeWarning: overflow encountered in power\n"
     ]
    },
    {
     "data": {
      "text/plain": [
       "[array([ 0.99755394,  2.388456  ]),\n",
       " array([ 0.99814347,  3.07813755]),\n",
       " array([ 1.00332239,  4.03023028]),\n",
       " array([ 1.02572309,  5.02254751])]"
      ]
     },
     "execution_count": 114,
     "metadata": {},
     "output_type": "execute_result"
    }
   ],
   "source": [
    "popt0b, _ = curve_fit(model_b, dataset['Vadc0'], dataset['R'])\n",
    "popt1b, _ = curve_fit(model_b, dataset['Vadc1'], dataset['R'])\n",
    "popt2b, _ = curve_fit(model_b, dataset['Vadc2'], dataset['R'])\n",
    "popt3b, _ = curve_fit(model_b, dataset['Vadc3'], dataset['R'])\n",
    "[popt0b, popt1b, popt2b, popt3b]"
   ]
  },
  {
   "cell_type": "code",
   "execution_count": 118,
   "metadata": {
    "collapsed": false
   },
   "outputs": [
    {
     "data": {
      "text/plain": [
       "[array([ 3.33647037]),\n",
       " array([ 3.47427232]),\n",
       " array([ 3.86859601]),\n",
       " array([ 4.89067534])]"
      ]
     },
     "execution_count": 118,
     "metadata": {},
     "output_type": "execute_result"
    }
   ],
   "source": [
    "popt0c, _ = curve_fit(model_c, dataset['Vadc0'], dataset['R'])\n",
    "popt1c, _ = curve_fit(model_c, dataset['Vadc1'], dataset['R'])\n",
    "popt2c, _ = curve_fit(model_c, dataset['Vadc2'], dataset['R'])\n",
    "popt3c, _ = curve_fit(model_c, dataset['Vadc3'], dataset['R'])\n",
    "[popt0c, popt1c, popt2c, popt3c]"
   ]
  },
  {
   "cell_type": "code",
   "execution_count": 116,
   "metadata": {
    "collapsed": false,
    "deletable": true,
    "editable": true
   },
   "outputs": [
    {
     "name": "stderr",
     "output_type": "stream",
     "text": [
      "/Users/r/Library/Enthought/Canopy_64bit/User/lib/python2.7/site-packages/ipykernel/__main__.py:5: RuntimeWarning: overflow encountered in power\n"
     ]
    },
    {
     "data": {
      "text/plain": [
       "(array([ 1.02572309,  5.02254751]),\n",
       " array([[  6.12494230e-09,   2.69926714e-08],\n",
       "        [  2.69926714e-08,   1.19752306e-07]]))"
      ]
     },
     "execution_count": 116,
     "metadata": {},
     "output_type": "execute_result"
    },
    {
     "data": {
      "image/png": "[encoded data removed]",
      "text/plain": [
       "<matplotlib.figure.Figure at 0x116f20990>"
      ]
     },
     "metadata": {},
     "output_type": "display_data"
    },
    {
     "data": {
      "image/png": "[encoded data removed]",
      "text/plain": [
       "<matplotlib.figure.Figure at 0x11762c590>"
      ]
     },
     "metadata": {},
     "output_type": "display_data"
    },
    {
     "data": {
      "image/png": "[encoded data removed]",
      "text/plain": [
       "<matplotlib.figure.Figure at 0x117bee4d0>"
      ]
     },
     "metadata": {},
     "output_type": "display_data"
    },
    {
     "data": {
      "image/png": "[encoded data removed]",
      "text/plain": [
       "<matplotlib.figure.Figure at 0x117bba7d0>"
      ]
     },
     "metadata": {},
     "output_type": "display_data"
    }
   ],
   "source": [
    "fit_and_plot_semilogy(dataset['Vadc0'], dataset['R'], model_b)\n",
    "fit_and_plot_semilogy(dataset['Vadc1'], dataset['R'], model_b)\n",
    "fit_and_plot_semilogy(dataset['Vadc2'], dataset['R'], model_b)\n",
    "fit_and_plot_semilogy(dataset['Vadc3'], dataset['R'], model_b)"
   ]
  },
  {
   "cell_type": "markdown",
   "metadata": {},
   "source": [
    "How well does the model predict resistance with Vdrv fixed at 1.0?  (Answer: not so well...)"
   ]
  },
  {
   "cell_type": "code",
   "execution_count": 119,
   "metadata": {
    "collapsed": false
   },
   "outputs": [
    {
     "data": {
      "text/plain": [
       "(array([ 4.89067534]), array([[  1.58948743e-05]]))"
      ]
     },
     "execution_count": 119,
     "metadata": {},
     "output_type": "execute_result"
    },
    {
     "data": {
      "image/png": "[encoded data removed]",
      "text/plain": [
       "<matplotlib.figure.Figure at 0x116cc5dd0>"
      ]
     },
     "metadata": {},
     "output_type": "display_data"
    },
    {
     "data": {
      "image/png": "[encoded data removed]",
      "text/plain": [
       "<matplotlib.figure.Figure at 0x117cc1210>"
      ]
     },
     "metadata": {},
     "output_type": "display_data"
    },
    {
     "data": {
      "image/png": "[encoded data removed]",
      "text/plain": [
       "<matplotlib.figure.Figure at 0x117a29ed0>"
      ]
     },
     "metadata": {},
     "output_type": "display_data"
    },
    {
     "data": {
      "image/png": "[encoded data removed]",
      "text/plain": [
       "<matplotlib.figure.Figure at 0x117c3cd10>"
      ]
     },
     "metadata": {},
     "output_type": "display_data"
    }
   ],
   "source": [
    "fit_and_plot_semilogy(dataset['Vadc0'], dataset['R'], model_c)\n",
    "fit_and_plot_semilogy(dataset['Vadc1'], dataset['R'], model_c)\n",
    "fit_and_plot_semilogy(dataset['Vadc2'], dataset['R'], model_c)\n",
    "fit_and_plot_semilogy(dataset['Vadc3'], dataset['R'], model_c)"
   ]
  },
  {
   "cell_type": "code",
   "execution_count": 121,
   "metadata": {
    "collapsed": false
   },
   "outputs": [
    {
     "data": {
      "text/plain": [
       "array([ 1.5,  3. ,  4.5,  6. ])"
      ]
     },
     "execution_count": 121,
     "metadata": {},
     "output_type": "execute_result"
    }
   ],
   "source": [
    "np.linspace(1.5, 6, 4)"
   ]
  },
  {
   "cell_type": "code",
   "execution_count": 123,
   "metadata": {
    "collapsed": false
   },
   "outputs": [
    {
     "data": {
      "text/plain": [
       "array([  3.16227766e+01,   1.00000000e+03,   3.16227766e+04,\n",
       "         1.00000000e+06])"
      ]
     },
     "execution_count": 123,
     "metadata": {},
     "output_type": "execute_result"
    }
   ],
   "source": [
    "np.power(10.0, np.linspace(1.5, 6, 4))"
   ]
  },
  {
   "cell_type": "markdown",
   "metadata": {},
   "source": [
    "Can we avoid the internal overflow by working with log10(R)?"
   ]
  },
  {
   "cell_type": "code",
   "execution_count": 124,
   "metadata": {
    "collapsed": true
   },
   "outputs": [],
   "source": [
    "def model_d(vadc, vdrv, rdrvlog):\n",
    "    r = np.power(10.0, rdrvlog) * vadc / (vdrv - vadc)\n",
    "    return np.log10(r)"
   ]
  },
  {
   "cell_type": "code",
   "execution_count": 125,
   "metadata": {
    "collapsed": false
   },
   "outputs": [
    {
     "name": "stderr",
     "output_type": "stream",
     "text": [
      "/Users/r/Library/Enthought/Canopy_64bit/User/lib/python2.7/site-packages/ipykernel/__main__.py:3: RuntimeWarning: invalid value encountered in log10\n",
      "  app.launch_new_instance()\n",
      "/Users/r/Library/Enthought/Canopy_64bit/User/lib/python2.7/site-packages/ipykernel/__main__.py:3: RuntimeWarning: divide by zero encountered in log10\n",
      "  app.launch_new_instance()\n"
     ]
    },
    {
     "data": {
      "text/plain": [
       "[array([ 0.9973955 ,  1.95015336]),\n",
       " array([ 0.99736447,  2.6358719 ]),\n",
       " array([ 0.99700299,  3.65565323]),\n",
       " array([ 1.,  1.])]"
      ]
     },
     "execution_count": 125,
     "metadata": {},
     "output_type": "execute_result"
    }
   ],
   "source": [
    "popt0d, _ = curve_fit(model_d, dataset['Vadc0'], dataset['Rlog'])\n",
    "popt1d, _ = curve_fit(model_d, dataset['Vadc1'], dataset['Rlog'])\n",
    "popt2d, _ = curve_fit(model_d, dataset['Vadc2'], dataset['Rlog'])\n",
    "popt3d, _ = curve_fit(model_d, dataset['Vadc3'], dataset['Rlog'])\n",
    "[popt0d, popt1d, popt2d, popt3d]"
   ]
  },
  {
   "cell_type": "markdown",
   "metadata": {},
   "source": [
    "Hm - that doesn't work either.  But model_b is good enough."
   ]
  },
  {
   "cell_type": "code",
   "execution_count": null,
   "metadata": {
    "collapsed": true
   },
   "outputs": [],
   "source": []
  }
 ],
 "metadata": {
  "kernelspec": {
   "display_name": "Python 2",
   "language": "python",
   "name": "python2"
  },
  "language_info": {
   "codemirror_mode": {
    "name": "ipython",
    "version": 2
   },
   "file_extension": ".py",
   "mimetype": "text/x-python",
   "name": "python",
   "nbconvert_exporter": "python",
   "pygments_lexer": "ipython2",
   "version": "2.7.11"
  }
 },
 "nbformat": 4,
 "nbformat_minor": 2
}
