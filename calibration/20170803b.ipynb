{
 "cells": [
  {
   "cell_type": "code",
   "execution_count": 2,
   "metadata": {
    "collapsed": true,
    "deletable": true,
    "editable": true
   },
   "outputs": [],
   "source": [
    "import pandas as pd\n",
    "import numpy as np\n",
    "import matplotlib.pyplot as plt\n",
    "from scipy.optimize import curve_fit\n",
    "# %matplotlib wx\n",
    "%matplotlib inline"
   ]
  },
  {
   "cell_type": "code",
   "execution_count": 3,
   "metadata": {
    "collapsed": true,
    "deletable": true,
    "editable": true
   },
   "outputs": [],
   "source": [
    "def linear(x, a, b):\n",
    "    return a * x + b\n",
    "\n",
    "def quadratic(x, a, b, c):\n",
    "    return a * x * x + b * x + c\n",
    "\n",
    "def inverse_quadratic(x, a, b, c):\n",
    "    return (-b + np.sqrt(b**2 - 4*a*(c-x))) / (2*a)\n",
    "\n",
    "def show_fit(actual, predicted):\n",
    "    fig = plt.figure()\n",
    "    ax = fig.add_subplot(111)\n",
    "    ax.plot(actual, predicted, 'b.')\n",
    "    return actual - predicted\n",
    "\n",
    "def fit_and_plot(x, y, fit_fn):\n",
    "    fig = plt.figure()\n",
    "    ax = fig.add_subplot(111)\n",
    "    ax.plot(x, y, 'b.')\n",
    "    popt, pcov = curve_fit(fit_fn, x, y)\n",
    "    xfine = np.linspace(min(x), max(x), 100)\n",
    "    ax.plot(xfine, fit_fn(xfine, *popt), 'r-')\n",
    "    return popt, pcov\n",
    "\n",
    "def fit_and_plot_semilogy(x, y, fit_fn):\n",
    "    fig = plt.figure()\n",
    "    ax = fig.add_subplot(111)\n",
    "    ax.plot(x, y, 'b.')\n",
    "    popt, pcov = curve_fit(fit_fn, x, y)\n",
    "    xfine = np.linspace(min(x), max(x), 100)\n",
    "    ax.semilogy(xfine, fit_fn(xfine, *popt), 'r-')\n",
    "    return popt, pcov"
   ]
  },
  {
   "cell_type": "code",
   "execution_count": 4,
   "metadata": {
    "collapsed": false,
    "deletable": true,
    "editable": true
   },
   "outputs": [
    {
     "data": {
      "text/html": [
       "<div>\n",
       "<table border=\"1\" class=\"dataframe\">\n",
       "  <thead>\n",
       "    <tr style=\"text-align: right;\">\n",
       "      <th></th>\n",
       "      <th>R</th>\n",
       "      <th>Vadc0</th>\n",
       "      <th>Vadc1</th>\n",
       "      <th>Vadc2</th>\n",
       "      <th>Vadc3</th>\n",
       "      <th>Rlog</th>\n",
       "    </tr>\n",
       "  </thead>\n",
       "  <tbody>\n",
       "    <tr>\n",
       "      <th>0</th>\n",
       "      <td>0.01</td>\n",
       "      <td>0.009470</td>\n",
       "      <td>0.000576</td>\n",
       "      <td>-0.000347</td>\n",
       "      <td>0.000017</td>\n",
       "      <td>-2.000000</td>\n",
       "    </tr>\n",
       "    <tr>\n",
       "      <th>1</th>\n",
       "      <td>1.00</td>\n",
       "      <td>0.022199</td>\n",
       "      <td>0.001351</td>\n",
       "      <td>0.000057</td>\n",
       "      <td>-0.000169</td>\n",
       "      <td>0.000000</td>\n",
       "    </tr>\n",
       "    <tr>\n",
       "      <th>2</th>\n",
       "      <td>10.00</td>\n",
       "      <td>0.113271</td>\n",
       "      <td>0.010059</td>\n",
       "      <td>0.000073</td>\n",
       "      <td>-0.000319</td>\n",
       "      <td>1.000000</td>\n",
       "    </tr>\n",
       "    <tr>\n",
       "      <th>3</th>\n",
       "      <td>100.00</td>\n",
       "      <td>0.568351</td>\n",
       "      <td>0.086356</td>\n",
       "      <td>0.002721</td>\n",
       "      <td>0.000166</td>\n",
       "      <td>2.000000</td>\n",
       "    </tr>\n",
       "    <tr>\n",
       "      <th>4</th>\n",
       "      <td>1000.00</td>\n",
       "      <td>0.929621</td>\n",
       "      <td>0.484863</td>\n",
       "      <td>0.029240</td>\n",
       "      <td>0.000765</td>\n",
       "      <td>3.000000</td>\n",
       "    </tr>\n",
       "    <tr>\n",
       "      <th>5</th>\n",
       "      <td>10000.00</td>\n",
       "      <td>0.990057</td>\n",
       "      <td>0.902194</td>\n",
       "      <td>0.230510</td>\n",
       "      <td>0.010714</td>\n",
       "      <td>4.000000</td>\n",
       "    </tr>\n",
       "    <tr>\n",
       "      <th>6</th>\n",
       "      <td>100000.00</td>\n",
       "      <td>0.996778</td>\n",
       "      <td>0.986828</td>\n",
       "      <td>0.748267</td>\n",
       "      <td>0.120349</td>\n",
       "      <td>5.000000</td>\n",
       "    </tr>\n",
       "    <tr>\n",
       "      <th>7</th>\n",
       "      <td>1000000.00</td>\n",
       "      <td>0.997378</td>\n",
       "      <td>0.996791</td>\n",
       "      <td>0.969356</td>\n",
       "      <td>0.464129</td>\n",
       "      <td>6.000000</td>\n",
       "    </tr>\n",
       "    <tr>\n",
       "      <th>8</th>\n",
       "      <td>9000000.00</td>\n",
       "      <td>0.997445</td>\n",
       "      <td>0.997029</td>\n",
       "      <td>0.982250</td>\n",
       "      <td>0.474602</td>\n",
       "      <td>6.954243</td>\n",
       "    </tr>\n",
       "  </tbody>\n",
       "</table>\n",
       "</div>"
      ],
      "text/plain": [
       "            R     Vadc0     Vadc1     Vadc2     Vadc3      Rlog\n",
       "0        0.01  0.009470  0.000576 -0.000347  0.000017 -2.000000\n",
       "1        1.00  0.022199  0.001351  0.000057 -0.000169  0.000000\n",
       "2       10.00  0.113271  0.010059  0.000073 -0.000319  1.000000\n",
       "3      100.00  0.568351  0.086356  0.002721  0.000166  2.000000\n",
       "4     1000.00  0.929621  0.484863  0.029240  0.000765  3.000000\n",
       "5    10000.00  0.990057  0.902194  0.230510  0.010714  4.000000\n",
       "6   100000.00  0.996778  0.986828  0.748267  0.120349  5.000000\n",
       "7  1000000.00  0.997378  0.996791  0.969356  0.464129  6.000000\n",
       "8  9000000.00  0.997445  0.997029  0.982250  0.474602  6.954243"
      ]
     },
     "execution_count": 4,
     "metadata": {},
     "output_type": "execute_result"
    }
   ],
   "source": [
    "dataset = pd.read_csv(\"/Users/r/Projects/ParticleZen/zzen/calibration/20170803b.csv\", skipinitialspace = True)\n",
    "# Vx fields were reported 1000x their actual values.  Fix now...\n",
    "dataset['Vadc0'] = dataset['Vadc0'] / 1000.0\n",
    "dataset['Vadc1'] = dataset['Vadc1'] / 1000.0\n",
    "dataset['Vadc2'] = dataset['Vadc2'] / 1000.0\n",
    "dataset['Vadc3'] = dataset['Vadc3'] / 1000.0\n",
    "# While we're at it, let's work using log10(R) rather than R...\n",
    "dataset.loc[0,'R'] = 0.01  # realistically smallest resistance\n",
    "dataset['Rlog'] = np.log10(dataset['R'])\n",
    "dataset"
   ]
  },
  {
   "cell_type": "markdown",
   "metadata": {
    "deletable": true,
    "editable": true
   },
   "source": [
    "Define a model that maps Vx to R"
   ]
  },
  {
   "cell_type": "code",
   "execution_count": 8,
   "metadata": {
    "collapsed": true,
    "deletable": true,
    "editable": true
   },
   "outputs": [],
   "source": [
    "def model_a(vadc, vdrv, rdrv):\n",
    "    r = rdrv * vadc / (vdrv - vadc)\n",
    "    return r\n",
    "def model_b(vadc, vdrv, rdrvlog):\n",
    "    r = np.power(10.0, rdrvlog) * vadc / (vdrv - vadc)\n",
    "    return r"
   ]
  },
  {
   "cell_type": "code",
   "execution_count": 9,
   "metadata": {
    "collapsed": false,
    "deletable": true,
    "editable": true
   },
   "outputs": [
    {
     "data": {
      "text/plain": [
       "[array([  0.99745301,  75.01041165]),\n",
       " array([   0.99705912,  269.1639567 ]),\n",
       " array([  9.83891142e-01,   1.50371364e+04]),\n",
       " array([  4.75945804e-01,   2.54828632e+04])]"
      ]
     },
     "execution_count": 9,
     "metadata": {},
     "output_type": "execute_result"
    }
   ],
   "source": [
    "popt0a, _ = curve_fit(model_a, dataset['Vadc0'], dataset['R'])\n",
    "popt1a, _ = curve_fit(model_a, dataset['Vadc1'], dataset['R'])\n",
    "popt2a, _ = curve_fit(model_a, dataset['Vadc2'], dataset['R'])\n",
    "popt3a, _ = curve_fit(model_a, dataset['Vadc3'], dataset['R'])\n",
    "[popt0a, popt1a, popt2a, popt3a]"
   ]
  },
  {
   "cell_type": "code",
   "execution_count": 10,
   "metadata": {
    "collapsed": false,
    "deletable": true,
    "editable": true
   },
   "outputs": [
    {
     "name": "stderr",
     "output_type": "stream",
     "text": [
      "/Users/r/Library/Enthought/Canopy_64bit/User/lib/python2.7/site-packages/ipykernel/__main__.py:5: RuntimeWarning: overflow encountered in power\n"
     ]
    },
    {
     "data": {
      "text/plain": [
       "[array([ 0.99745301,  1.87512155]),\n",
       " array([ 0.99705912,  2.43001691]),\n",
       " array([ 0.98389114,  4.17716514]),\n",
       " array([ 0.4759458 ,  4.40624822])]"
      ]
     },
     "execution_count": 10,
     "metadata": {},
     "output_type": "execute_result"
    }
   ],
   "source": [
    "popt0b, _ = curve_fit(model_b, dataset['Vadc0'], dataset['R'])\n",
    "popt1b, _ = curve_fit(model_b, dataset['Vadc1'], dataset['R'])\n",
    "popt2b, _ = curve_fit(model_b, dataset['Vadc2'], dataset['R'])\n",
    "popt3b, _ = curve_fit(model_b, dataset['Vadc3'], dataset['R'])\n",
    "[popt0b, popt1b, popt2b, popt3b]"
   ]
  },
  {
   "cell_type": "code",
   "execution_count": 11,
   "metadata": {
    "collapsed": false,
    "deletable": true,
    "editable": true
   },
   "outputs": [
    {
     "name": "stderr",
     "output_type": "stream",
     "text": [
      "/Users/r/Library/Enthought/Canopy_64bit/User/lib/python2.7/site-packages/ipykernel/__main__.py:5: RuntimeWarning: overflow encountered in power\n"
     ]
    },
    {
     "data": {
      "text/plain": [
       "(array([ 0.4759458 ,  4.40624822]),\n",
       " array([[  2.80087297e-09,   8.95388058e-07],\n",
       "        [  8.95388058e-07,   2.89012447e-04]]))"
      ]
     },
     "execution_count": 11,
     "metadata": {},
     "output_type": "execute_result"
    },
    {
     "data": {
      "image/png": "[encoded data removed]",
      "text/plain": [
       "<matplotlib.figure.Figure at 0x10c810b50>"
      ]
     },
     "metadata": {},
     "output_type": "display_data"
    },
    {
     "data": {
      "image/png": "[encoded data removed]",
      "text/plain": [
       "<matplotlib.figure.Figure at 0x10c75a490>"
      ]
     },
     "metadata": {},
     "output_type": "display_data"
    },
    {
     "data": {
      "image/png": "[encoded data removed]",
      "text/plain": [
       "<matplotlib.figure.Figure at 0x1174f6d50>"
      ]
     },
     "metadata": {},
     "output_type": "display_data"
    },
    {
     "data": {
      "image/png": "[encoded data removed]",
      "text/plain": [
       "<matplotlib.figure.Figure at 0x117594550>"
      ]
     },
     "metadata": {},
     "output_type": "display_data"
    }
   ],
   "source": [
    "fit_and_plot_semilogy(dataset['Vadc0'], dataset['R'], model_b)\n",
    "fit_and_plot_semilogy(dataset['Vadc1'], dataset['R'], model_b)\n",
    "fit_and_plot_semilogy(dataset['Vadc2'], dataset['R'], model_b)\n",
    "fit_and_plot_semilogy(dataset['Vadc3'], dataset['R'], model_b)"
   ]
  },
  {
   "cell_type": "code",
   "execution_count": 14,
   "metadata": {
    "collapsed": false
   },
   "outputs": [
    {
     "data": {
      "text/plain": [
       "0        0.01\n",
       "1        1.00\n",
       "2       10.00\n",
       "3      100.00\n",
       "4     1000.00\n",
       "5    10000.00\n",
       "Name: R, dtype: float64"
      ]
     },
     "execution_count": 14,
     "metadata": {},
     "output_type": "execute_result"
    }
   ],
   "source": [
    "dataset['R'][0:6]"
   ]
  },
  {
   "cell_type": "code",
   "execution_count": 13,
   "metadata": {
    "collapsed": false
   },
   "outputs": [
    {
     "data": {
      "text/plain": [
       "4       1000.0\n",
       "5      10000.0\n",
       "6     100000.0\n",
       "7    1000000.0\n",
       "8    9000000.0\n",
       "Name: R, dtype: float64"
      ]
     },
     "execution_count": 13,
     "metadata": {},
     "output_type": "execute_result"
    }
   ],
   "source": [
    "dataset['R'][4:]"
   ]
  },
  {
   "cell_type": "markdown",
   "metadata": {},
   "source": [
    "It's worth noting that since we're not going to use the full range of any one driver, we can get better fits by limiting the curve fit to a subset of the data."
   ]
  },
  {
   "cell_type": "code",
   "execution_count": 28,
   "metadata": {
    "collapsed": false
   },
   "outputs": [
    {
     "data": {
      "text/plain": [
       "(array([  1.00027687,  76.00513493]),\n",
       " array([[  2.67235072e-07,   2.85060102e-04],\n",
       "        [  2.85060102e-04,   3.06219992e-01]]))"
      ]
     },
     "execution_count": 28,
     "metadata": {},
     "output_type": "execute_result"
    },
    {
     "data": {
      "image/png": "[encoded data removed]",
      "text/plain": [
       "<matplotlib.figure.Figure at 0x118542d50>"
      ]
     },
     "metadata": {},
     "output_type": "display_data"
    }
   ],
   "source": [
    "fit_and_plot_semilogy(dataset['Vadc0'][0:5], dataset['R'][0:5], model_a)"
   ]
  },
  {
   "cell_type": "code",
   "execution_count": 29,
   "metadata": {
    "collapsed": false
   },
   "outputs": [
    {
     "data": {
      "text/plain": [
       "(array([  9.97222635e-01,   1.05333803e+03]),\n",
       " array([[  4.92553924e-12,   4.94677949e-07],\n",
       "        [  4.94677949e-07,   5.00791240e-02]]))"
      ]
     },
     "execution_count": 29,
     "metadata": {},
     "output_type": "execute_result"
    },
    {
     "data": {
      "image/png": "[encoded data removed]",
      "text/plain": [
       "<matplotlib.figure.Figure at 0x1127ee510>"
      ]
     },
     "metadata": {},
     "output_type": "display_data"
    }
   ],
   "source": [
    "fit_and_plot_semilogy(dataset['Vadc1'][2:7], dataset['R'][2:7], model_a)"
   ]
  },
  {
   "cell_type": "code",
   "execution_count": 30,
   "metadata": {
    "collapsed": false
   },
   "outputs": [
    {
     "data": {
      "text/plain": [
       "(array([  1.00225376e+00,   3.39380768e+04]),\n",
       " array([[  1.38027185e-09,   1.41149895e-03],\n",
       "        [  1.41149895e-03,   1.45447502e+03]]))"
      ]
     },
     "execution_count": 30,
     "metadata": {},
     "output_type": "execute_result"
    },
    {
     "data": {
      "image/png": "[encoded data removed]",
      "text/plain": [
       "<matplotlib.figure.Figure at 0x11752c7d0>"
      ]
     },
     "metadata": {},
     "output_type": "display_data"
    }
   ],
   "source": [
    "fit_and_plot_semilogy(dataset['Vadc2'][4:8], dataset['R'][4:8], model_a)"
   ]
  },
  {
   "cell_type": "code",
   "execution_count": 31,
   "metadata": {
    "collapsed": false
   },
   "outputs": [
    {
     "data": {
      "text/plain": [
       "(array([  4.75945804e-01,   2.54828619e+04]),\n",
       " array([[  9.80197438e-09,   1.83863449e-01],\n",
       "        [  1.83863449e-01,   3.48228734e+06]]))"
      ]
     },
     "execution_count": 31,
     "metadata": {},
     "output_type": "execute_result"
    },
    {
     "data": {
      "image/png": "[encoded data removed]",
      "text/plain": [
       "<matplotlib.figure.Figure at 0x1180d51d0>"
      ]
     },
     "metadata": {},
     "output_type": "display_data"
    }
   ],
   "source": [
    "fit_and_plot_semilogy(dataset['Vadc3'][5:], dataset['R'][5:], model_a)"
   ]
  },
  {
   "cell_type": "code",
   "execution_count": 24,
   "metadata": {
    "collapsed": false
   },
   "outputs": [
    {
     "data": {
      "text/plain": [
       "(array([ 0.4759458,  4.4062482]), array([[  9.80197641e-09,   3.13351343e-06],\n",
       "        [  3.13351343e-06,   1.01143233e-03]]))"
      ]
     },
     "execution_count": 24,
     "metadata": {},
     "output_type": "execute_result"
    },
    {
     "data": {
      "image/png": "[encoded data removed]",
      "text/plain": [
       "<matplotlib.figure.Figure at 0x118505150>"
      ]
     },
     "metadata": {},
     "output_type": "display_data"
    }
   ],
   "source": [
    "fit_and_plot(dataset['Vadc3'][5:], dataset['R'][5:], model_b)"
   ]
  },
  {
   "cell_type": "markdown",
   "metadata": {},
   "source": [
    "In the last set (Vadc3), the fit is still poor.  Not that Vadc never exceeds 0.5 or so.  I believe this is because of the high impedance posed by the 1M resistor on Rdrv3.  It's quite possible that the input capacitance on the ADC means that Vdrv doesn't have time to fully charge the input.\n",
    "\n",
    "A simple test would be to double (or triple) the # of reads we take with the identical drive.  This will slow things down, but if we see different results, it will support the theory.\n",
    "\n",
    "If that's the case, a real fix would be to make the sample time proportional to the drive resistor, and drive the adc longer for higher series resistors.\n",
    "\n",
    "So I tried taking four consecutive reads on the A/D with the same input, but that didn't significantly change the output: it might have increased from 0.475 to 0.477.  \n",
    "\n",
    "So the next theory is that the input impedance to the A/D system is on the order of 1M ohm, i.e. dividing down half the voltage.  Checking the specs..."
   ]
  },
  {
   "cell_type": "code",
   "execution_count": null,
   "metadata": {
    "collapsed": true
   },
   "outputs": [],
   "source": []
  }
 ],
 "metadata": {
  "kernelspec": {
   "display_name": "Python 2",
   "language": "python",
   "name": "python2"
  },
  "language_info": {
   "codemirror_mode": {
    "name": "ipython",
    "version": 2
   },
   "file_extension": ".py",
   "mimetype": "text/x-python",
   "name": "python",
   "nbconvert_exporter": "python",
   "pygments_lexer": "ipython2",
   "version": "2.7.11"
  }
 },
 "nbformat": 4,
 "nbformat_minor": 2
}
